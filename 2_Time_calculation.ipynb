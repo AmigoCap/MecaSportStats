{
 "cells": [
  {
   "cell_type": "markdown",
   "metadata": {},
   "source": [
    "# Time calculation\n",
    "\n",
    "The aim of this notebook is to introduce a way to calculate the time a player needs to join a point (x,y) from his position (x(0),y(0)) given his initial speed. \n",
    "\n",
    "## Calculation\n",
    "----\n",
    "\n",
    "Without loss of generality, we will determine the time it takes for a player at a given position and with a given speed to reach the point $(x,y)=(0,0)$.  Initially the velocity of the player at position $(x(0),y(0))$ is $(u(0),v(0))$. \n",
    " \n",
    "We will consider that the player will use a constant force (per unit mass) in a given direction, of strength $|F|^2=F_x^2 + F_y^2$. This is an assumption which allows to find a simple analytical solution. In particular, it allows to consider the two directions  separately.\n",
    "\n",
    "Newton's law writes :\n",
    "\n",
    "\\begin{equation}\n",
    "    d_t^2x = F_x\n",
    "    \\label{eq:1} \\tag{1}\n",
    "\\end{equation}\n",
    "\n",
    "so that we have :\n",
    "\n",
    "\\begin{equation}\n",
    "    x(t) = x(0) + u(0)t + \\frac{1}{2}F_x t^2.\n",
    "    \\label{eq:2} \\tag{2}\n",
    "\\end{equation}  \n",
    "\n",
    "We evaluate this expression at $x = 0$, and want to determine at which time this point is reached. Let us first determine the force per mass $F_x$,\n",
    "\n",
    "\\begin{equation}\n",
    "    F_x = - 2\\frac{x(0)+u(0)t}{t^2}\n",
    "    \\label{eq:3} \\tag{3}\n",
    "\\end{equation}\n",
    "\n",
    "Analogous expressions to ($\\eqref{eq:1}$-$\\eqref{eq:3}$) are written  for $d_t^2 y$, $y(t)$ and $F_y$.\n",
    "Since $|F|^2 = F_x^2 + F_y^2$, we have,\n",
    "\n",
    "\\begin{equation}\n",
    "    F^2 = 4\\left(\\left(\\frac{x(0)+u(0)t}{t^2}\\right)^2 + \\left(\\frac{y(0)+v(0)t}{t^2}\\right)^2\\right)\n",
    "    \\label{eq:4} \\tag{4}\n",
    "\\end{equation}\n",
    "\n",
    "Yielding a $4^{th}$ order polynomial for t,\n",
    "\n",
    "\\begin{equation}\n",
    "        t^4 - \\frac{4}{F^2}\\left(\\left(x(0)+u(0)t\\right)^2 + \\left(y(0)+v(0)t\\right)^2\\right) = 0 \n",
    "        \\label{eq:5} \\tag{5}\n",
    "\\end{equation}\n",
    "\n",
    "This equation has formally 4 solutions. However, only one of these is the shortest physical time for a player to reach the origin. The constraints to choose the correct solution are that the time needs to be the smallest positive and real root of equation ($\\eqref{eq:5}$).\n",
    "\n",
    "The present model contains one adjustable control parameter, the value of $F$. A previous investigation [1] suggests that the value of $F$ should be of order 10m/s. We used this value for our work.\n",
    "In principle, since we have not bounded the velocity of a defender and fixed its acceleration, nonphysically large velocities can be developed. Thereto in a previous model [1] the dynamics were refined introducing a drag, which limits the increase in velocity. However, for the present application, the time it takes for a defender to reach a shooter rarely exceeds 1 second, so that the velocities do not reach non-physical values. Therefore, and for the sake of simplicity,  we have chosen not to refine the model any further.\n",
    "\n",
    "(You can find this calcul in the following [pdf](https://github.com/AmigoCap/MecaFootCo/blob/master/Closest_player_to_a_point.pdf))"
   ]
  },
  {
   "cell_type": "markdown",
   "metadata": {},
   "source": [
    "## Implementation\n",
    "---"
   ]
  },
  {
   "cell_type": "code",
   "execution_count": 11,
   "metadata": {},
   "outputs": [],
   "source": [
    "import numpy as np\n",
    "import matplotlib.pyplot as plt\n",
    "import math as m\n",
    "import json\n",
    "import python_files.space as sp\n",
    "from python_files.data_extracter import json_extracter\n",
    "import pandas as pd\n",
    "\n",
    "data,events=json_extracter('data/game1.json')"
   ]
  },
  {
   "cell_type": "markdown",
   "metadata": {},
   "source": [
    "### Function Time_to_point\n",
    "\n",
    "This function returns the time required to go from point a to point b with initial speed v. F is the value of the force granted to a player (per unit of mass). "
   ]
  },
  {
   "cell_type": "code",
   "execution_count": 15,
   "metadata": {},
   "outputs": [],
   "source": [
    "def time_to_point(a,b,v,F=10*3.28):   \n",
    "    \"time to go from a to b with initial speed v, F is the force parameter in feet/s-2\"\n",
    "    x0,y0=a\n",
    "    xf,yf=b\n",
    "    X=x0-xf\n",
    "    Y=y0-yf\n",
    "    k4=1\n",
    "    k3=0\n",
    "    k2=4*(v[0]**2+v[1]**2)/F**2\n",
    "    k1=8*(v[0]*X+v[1]*Y)/F**2\n",
    "    k0=4*(X**2+Y**2)/F**2\n",
    "    times=np.roots([k4,k3,-k2,-k1,-k0])\n",
    "    for i in range(4):                      # Selection of the root real and positive\n",
    "        if times[i].imag==0:\n",
    "            if times[i]>0:\n",
    "                return times[i].real\n",
    "    print('error')\n",
    "    return times[0]"
   ]
  },
  {
   "cell_type": "markdown",
   "metadata": {},
   "source": [
    "## Example of trajectories with our model\n",
    "-----\n",
    "\n",
    "The black arrow represents the force, the green arrow the initial speed, the red point the initial position and the blue point the position to reach."
   ]
  },
  {
   "cell_type": "code",
   "execution_count": 16,
   "metadata": {},
   "outputs": [],
   "source": [
    "def path(a,b,v,F=10*3.28,nb_points=100):\n",
    "    tf=time_to_point(a,b,v,F)\n",
    "    Fx=2*(b[0]-a[0]-v[0]*tf)/tf**2\n",
    "    Fy=2*(b[1]-a[1]-v[1]*tf)/tf**2\n",
    "    dt=tf/nb_points\n",
    "    t=dt\n",
    "    lx=[a[0]]\n",
    "    ly=[a[1]]\n",
    "    for i in range(nb_points):\n",
    "        x=a[0]+v[0]*t+Fx*t**2/2\n",
    "        y=a[1]+v[1]*t+Fy*t**2/2\n",
    "        lx.append(x)\n",
    "        ly.append(y)\n",
    "        t=t+dt\n",
    "    return(lx,ly,Fx,Fy,tf)"
   ]
  },
  {
   "cell_type": "code",
   "execution_count": 17,
   "metadata": {},
   "outputs": [],
   "source": [
    "def print_path(a,b,v,F=10*3.28):\n",
    "    lx,ly,Fx,Fy,tf=path(a,b,v,F)\n",
    "    plt.plot(lx,ly)\n",
    "    plt.plot(a[0],a[1], 'ro')\n",
    "    plt.plot(b[0],b[1], 'bo')\n",
    "    plt.arrow(a[0],a[1],Fx/10,Fy/10,shape='full',lw=1.5,head_width=0.2)\n",
    "    plt.arrow(a[0],a[1],v[0],v[1],shape='full',lw=1.5,head_width=0.2, color='g')\n",
    "    plt.xlim(min(v[0],Fx/10,0)-2,max(v[0],Fx/10,0)+2)\n",
    "    plt.ylim(min(v[1],Fy/10,0)-2,max(v[1],Fy/10,0)+2)\n",
    "    plt.show()"
   ]
  },
  {
   "cell_type": "code",
   "execution_count": 18,
   "metadata": {},
   "outputs": [
    {
     "data": {
      "image/png": "[encoded data removed]",
      "text/plain": [
       "<matplotlib.figure.Figure at 0x10950ada0>"
      ]
     },
     "metadata": {
      "needs_background": "light"
     },
     "output_type": "display_data"
    },
    {
     "data": {
      "image/png": "[encoded data removed]",
      "text/plain": [
       "<matplotlib.figure.Figure at 0x109504c18>"
      ]
     },
     "metadata": {
      "needs_background": "light"
     },
     "output_type": "display_data"
    },
    {
     "data": {
      "image/png": "[encoded data removed]",
      "text/plain": [
       "<matplotlib.figure.Figure at 0x1093a14e0>"
      ]
     },
     "metadata": {
      "needs_background": "light"
     },
     "output_type": "display_data"
    }
   ],
   "source": [
    "plt.subplots()\n",
    "print_path(np.array([0,0]),np.array([1,2]),np.array([-4,-4]))\n",
    "print_path(np.array([0,0]),np.array([1,2]),np.array([0,-10]))\n",
    "print_path(np.array([0,0]),np.array([1,2]),np.array([0,-10]),F=5*3.28)"
   ]
  },
  {
   "cell_type": "markdown",
   "metadata": {},
   "source": [
    "## Sources \n",
    "[1] Akira Fujimura and Kokichi Sugihara. Geometric analysis and quantitative evaluation of sport teamwork. *Systems and Computers in Japan*, 36(6):49–58, 2005."
   ]
  },
  {
   "cell_type": "code",
   "execution_count": null,
   "metadata": {},
   "outputs": [],
   "source": []
  }
 ],
 "metadata": {
  "kernelspec": {
   "display_name": "Python 3",
   "language": "python",
   "name": "python3"
  },
  "language_info": {
   "codemirror_mode": {
    "name": "ipython",
    "version": 3
   },
   "file_extension": ".py",
   "mimetype": "text/x-python",
   "name": "python",
   "nbconvert_exporter": "python",
   "pygments_lexer": "ipython3",
   "version": "3.7.4"
  }
 },
 "nbformat": 4,
 "nbformat_minor": 2
}
